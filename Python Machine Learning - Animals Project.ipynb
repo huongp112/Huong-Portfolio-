{
 "cells": [
  {
   "cell_type": "markdown",
   "metadata": {
    "collapsed": true
   },
   "source": [
    "# Animal Python Project"
   ]
  },
  {
   "cell_type": "markdown",
   "metadata": {},
   "source": [
    "<b>By Huong Pham and Britta Madison </b>"
   ]
  },
  {
   "cell_type": "markdown",
   "metadata": {},
   "source": [
    "Our group analyzed a dataset retrieved from Kaggle about the international wildlife trade from 2016 to 2017. The dataset was curated from the CITES wildlife trade database. The business problem is to answer two questions: how much trading activity occurs on animals, and of these trades which transactions were sales and purchases of live animals versus dead. \n",
    "\n",
    "[Wildlife Animals Trading](https://www.kaggle.com/cites/cites-wildlife-trade-database/data)."
   ]
  },
  {
   "cell_type": "markdown",
   "metadata": {},
   "source": [
    "<b> Data Cleaning </b>"
   ]
  },
  {
   "cell_type": "markdown",
   "metadata": {},
   "source": [
    "\n",
    "The dataset was available in a CSV file with 67,161 records and 18 attributes. We filtered out the transactions of plants because our business problem only focuses on animals trades. We then randomized the data in Excel, and downsized from 46,938 to 4999 trades of animals and animal products. In Excel, we replaced all missing values by “Unknown”. We also deleted three columns Family, Taxon and Order. We also created a new attribute “Label_Numerics” with four values: <b> Export Dead = 1 </b>, <b>Export Alive = 2<b/>, <b>Import Dead = 3<b/>, <b>Import Alive = 4<b/>.\n"
   ]
  },
  {
   "cell_type": "markdown",
   "metadata": {},
   "source": [
    "The final step of data preparation is to create dummy variables for categorical attributes in Python. "
   ]
  },
  {
   "cell_type": "code",
   "execution_count": 1,
   "metadata": {
    "collapsed": true
   },
   "outputs": [],
   "source": [
    "import pandas as pd\n",
    "import matplotlib.pyplot as plt\n",
    "import matplotlib\n",
    "import numpy as np\n",
    "import seaborn as sns "
   ]
  },
  {
   "cell_type": "code",
   "execution_count": 2,
   "metadata": {
    "collapsed": true
   },
   "outputs": [],
   "source": [
    "animals = pd.read_csv('Animal(7).csv')\n"
   ]
  },
  {
   "cell_type": "code",
   "execution_count": 3,
   "metadata": {},
   "outputs": [
    {
     "data": {
      "text/html": [
       "<div>\n",
       "<style scoped>\n",
       "    .dataframe tbody tr th:only-of-type {\n",
       "        vertical-align: middle;\n",
       "    }\n",
       "\n",
       "    .dataframe tbody tr th {\n",
       "        vertical-align: top;\n",
       "    }\n",
       "\n",
       "    .dataframe thead th {\n",
       "        text-align: right;\n",
       "    }\n",
       "</style>\n",
       "<table border=\"1\" class=\"dataframe\">\n",
       "  <thead>\n",
       "    <tr style=\"text-align: right;\">\n",
       "      <th></th>\n",
       "      <th>Year</th>\n",
       "      <th>Export_Or_Import</th>\n",
       "      <th>Live or Dead</th>\n",
       "      <th>Label_Numerics</th>\n",
       "    </tr>\n",
       "  </thead>\n",
       "  <tbody>\n",
       "    <tr>\n",
       "      <th>count</th>\n",
       "      <td>4999.000000</td>\n",
       "      <td>4999.000000</td>\n",
       "      <td>4999.000000</td>\n",
       "      <td>4999.000000</td>\n",
       "    </tr>\n",
       "    <tr>\n",
       "      <th>mean</th>\n",
       "      <td>2016.003201</td>\n",
       "      <td>1.509502</td>\n",
       "      <td>1.639928</td>\n",
       "      <td>2.229646</td>\n",
       "    </tr>\n",
       "    <tr>\n",
       "      <th>std</th>\n",
       "      <td>0.056489</td>\n",
       "      <td>0.499960</td>\n",
       "      <td>0.480069</td>\n",
       "      <td>1.085424</td>\n",
       "    </tr>\n",
       "    <tr>\n",
       "      <th>min</th>\n",
       "      <td>2016.000000</td>\n",
       "      <td>1.000000</td>\n",
       "      <td>1.000000</td>\n",
       "      <td>1.000000</td>\n",
       "    </tr>\n",
       "    <tr>\n",
       "      <th>25%</th>\n",
       "      <td>2016.000000</td>\n",
       "      <td>1.000000</td>\n",
       "      <td>1.000000</td>\n",
       "      <td>1.000000</td>\n",
       "    </tr>\n",
       "    <tr>\n",
       "      <th>50%</th>\n",
       "      <td>2016.000000</td>\n",
       "      <td>2.000000</td>\n",
       "      <td>2.000000</td>\n",
       "      <td>2.000000</td>\n",
       "    </tr>\n",
       "    <tr>\n",
       "      <th>75%</th>\n",
       "      <td>2016.000000</td>\n",
       "      <td>2.000000</td>\n",
       "      <td>2.000000</td>\n",
       "      <td>3.000000</td>\n",
       "    </tr>\n",
       "    <tr>\n",
       "      <th>max</th>\n",
       "      <td>2017.000000</td>\n",
       "      <td>2.000000</td>\n",
       "      <td>2.000000</td>\n",
       "      <td>4.000000</td>\n",
       "    </tr>\n",
       "  </tbody>\n",
       "</table>\n",
       "</div>"
      ],
      "text/plain": [
       "              Year  Export_Or_Import  Live or Dead  Label_Numerics\n",
       "count  4999.000000       4999.000000   4999.000000     4999.000000\n",
       "mean   2016.003201          1.509502      1.639928        2.229646\n",
       "std       0.056489          0.499960      0.480069        1.085424\n",
       "min    2016.000000          1.000000      1.000000        1.000000\n",
       "25%    2016.000000          1.000000      1.000000        1.000000\n",
       "50%    2016.000000          2.000000      2.000000        2.000000\n",
       "75%    2016.000000          2.000000      2.000000        3.000000\n",
       "max    2017.000000          2.000000      2.000000        4.000000"
      ]
     },
     "execution_count": 3,
     "metadata": {},
     "output_type": "execute_result"
    }
   ],
   "source": [
    "#Give me the stats on my dataset\n",
    "animals.describe()"
   ]
  },
  {
   "cell_type": "markdown",
   "metadata": {},
   "source": [
    "#  Visualizations of Data"
   ]
  },
  {
   "cell_type": "markdown",
   "metadata": {},
   "source": [
    "Before creating a model to predict our data, we wanted to do run some simple analysis and visualizations to gain insights on what coutries sold/bought the most animals as well as which animal was traded the most and why."
   ]
  },
  {
   "cell_type": "code",
   "execution_count": 4,
   "metadata": {},
   "outputs": [
    {
     "data": {
      "image/png": "[encoded data removed]",
      "text/plain": [
       "<matplotlib.figure.Figure at 0xaf0c9e8>"
      ]
     },
     "metadata": {},
     "output_type": "display_data"
    }
   ],
   "source": [
    "plt.figure(figsize=(20,10))\n",
    "\n",
    "plt.subplot(121)\n",
    "toptrader_imp = animals.Importer.value_counts(normalize=True)\n",
    "toptrader_imp.head(10).plot(kind='bar', fontsize=18)\n",
    "plt.title('Top 10 Importing Countries', fontsize=20)\n",
    "plt.xticks(rotation=0)\n",
    "\n",
    "plt.subplot(122)\n",
    "toptrader_imp = animals.Exporter.value_counts(normalize=True)\n",
    "toptrader_imp.head(10).plot(kind='bar', fontsize=18)\n",
    "plt.title('Top 10 Exporting Countries', fontsize=20)\n",
    "plt.xticks(rotation=0)\n",
    "\n",
    "plt.show()"
   ]
  },
  {
   "cell_type": "markdown",
   "metadata": {},
   "source": [
    "To gain some insight into which countries were leading in sales and purchases, we split the data into two categories, imports and exports. Then we graphed the data by each categories. These graphs are shown above. On the graph on the left, one can see US dominates in importing or purchasing animals from other others. Next is Japan (JP) and Hong Kong (HK).\n",
    "\n",
    "On the graph to the right, we can see that Indonesia (ID) is leading in exporting or sale transactions of animals to other countries with Italy (IT), and France (FR) following behind. \n",
    "\n"
   ]
  },
  {
   "cell_type": "code",
   "execution_count": 3,
   "metadata": {
    "scrolled": true
   },
   "outputs": [
    {
     "data": {
      "image/png": "[encoded data removed]",
      "text/plain": [
       "<matplotlib.figure.Figure at 0xea014a8>"
      ]
     },
     "metadata": {},
     "output_type": "display_data"
    }
   ],
   "source": [
    "plt.figure(figsize=(20,10))\n",
    "\n",
    "plt.subplot(121)\n",
    "graph= animals.Category.value_counts().head(10).plot(kind='bar', fontsize=18)\n",
    "plt.title('Top 5 Traded Animal Category', fontsize=20)\n",
    "\n",
    "\n",
    "plt.subplot(122)\n",
    "graph= animals.Genus.value_counts().head(10).plot(kind='bar', fontsize=18)\n",
    "plt.title('Top 5 Traded Animal Genus', fontsize=20)\n",
    "\n",
    "plt.show()"
   ]
  },
  {
   "cell_type": "markdown",
   "metadata": {},
   "source": [
    "On the graph on the left, one can see that Reptilia or Reptiles are the most traded animals with 2000 of the transactions in our dataset. Within that category of animals. \n",
    "\n",
    "The next question we want to ask is what animal within the Reptile family is being traded the most. To answer this question, we created the graph on the right which tells us the Crocodylus or Crocodiles and Pthons (Snakes) are the top traded animals with a 500 transaction each. Varanus (Lizards) and Alligators was tied in second with 250 transactions while Acipenser (Sturgeon) are last."
   ]
  },
  {
   "cell_type": "code",
   "execution_count": 6,
   "metadata": {},
   "outputs": [
    {
     "data": {
      "image/png": "[encoded data removed]",
      "text/plain": [
       "<matplotlib.figure.Figure at 0xb6ae240>"
      ]
     },
     "metadata": {},
     "output_type": "display_data"
    }
   ],
   "source": [
    "plt.figure(figsize=(20,10))\n",
    "\n",
    "plt.subplot(121)\n",
    "graph= animals.Category.value_counts().head(5).plot(kind='pie', fontsize=18, autopct='%1.0f%%')\n",
    "plt.title('Top 5 Traded Category', fontsize=20)\n",
    "\n",
    "\n",
    "plt.subplot(122)\n",
    "graph= animals.Genus.value_counts().head(5).plot(kind='pie', fontsize=18, autopct='%1.0f%%')\n",
    "plt.title('Top 5 Traded Genus', fontsize=20)\n",
    "\n",
    "plt.show()"
   ]
  },
  {
   "cell_type": "code",
   "execution_count": 7,
   "metadata": {},
   "outputs": [
    {
     "data": {
      "image/png": "[encoded data removed]",
      "text/plain": [
       "<matplotlib.figure.Figure at 0xb009f98>"
      ]
     },
     "metadata": {},
     "output_type": "display_data"
    }
   ],
   "source": [
    "plt.figure(figsize=(20,10))\n",
    "\n",
    "plt.subplot(121)\n",
    "graph= animals.Term.value_counts().head(5).plot(title='Top 5 product terms', kind='bar', fontsize=18)\n",
    "\n",
    "\n",
    "plt.subplot(122)\n",
    "graph= animals.Purpose.value_counts().head(5).plot(title='Top 5 reasons for trading', kind='bar', fontsize=18)\n",
    "\n",
    "plt.show()"
   ]
  },
  {
   "cell_type": "markdown",
   "metadata": {},
   "source": [
    "On the graph on the left, one can see that most of the animals sold or purchased are alive or leather products (this align with our observations of the most traded animals was crocodiles and snakes).  The graph on the right drives into the reason or purpose for the trade. In most cases, we are seeing the trade is for commerical reasons. Note commerical is a vague term that could mean clothing, pets, research, etc. Commerical means buying or selling, in commerce, animals for profit.\n",
    "\n",
    "Commerical was followed by Personal(P), Scientific (S), Hunting Trophy (H), and last was Medical (M). "
   ]
  },
  {
   "cell_type": "markdown",
   "metadata": {},
   "source": [
    "# Create label vector and predictors\n"
   ]
  },
  {
   "cell_type": "code",
   "execution_count": 8,
   "metadata": {},
   "outputs": [
    {
     "name": "stdout",
     "output_type": "stream",
     "text": [
      "(4999L,)\n",
      "0    1\n",
      "1    3\n",
      "2    1\n",
      "3    3\n",
      "4    4\n",
      "Name: Label_Numerics, dtype: int64\n"
     ]
    }
   ],
   "source": [
    "#create the outcome/lable vector (y)\n",
    "\n",
    "y=animals.Label_Numerics\n",
    "\n",
    "print(y.shape)\n",
    "print (y.head())"
   ]
  },
  {
   "cell_type": "code",
   "execution_count": 9,
   "metadata": {},
   "outputs": [
    {
     "name": "stdout",
     "output_type": "stream",
     "text": [
      "(4999, 837)\n",
      "      Live or Dead  App._I  App._II  App._III  App._N  Genus_Acanthastrea  \\\n",
      "0                2       0        1         0       0                   0   \n",
      "1                1       1        0         0       0                   0   \n",
      "2                2       0        1         0       0                   0   \n",
      "3                1       0        1         0       0                   0   \n",
      "4                1       0        1         0       0                   0   \n",
      "5                1       1        0         0       0                   0   \n",
      "6                2       0        1         0       0                   0   \n",
      "7                2       0        1         0       0                   0   \n",
      "8                2       0        1         0       0                   0   \n",
      "9                2       0        1         0       0                   0   \n",
      "10               2       0        1         0       0                   0   \n",
      "11               2       0        1         0       0                   0   \n",
      "12               2       0        1         0       0                   0   \n",
      "13               1       1        0         0       0                   0   \n",
      "14               2       0        1         0       0                   0   \n",
      "15               1       0        1         0       0                   0   \n",
      "16               2       0        1         0       0                   0   \n",
      "17               2       0        1         0       0                   0   \n",
      "18               2       0        1         0       0                   0   \n",
      "19               2       0        1         0       0                   0   \n",
      "20               2       0        1         0       0                   0   \n",
      "21               1       0        1         0       0                   0   \n",
      "22               2       0        0         1       0                   0   \n",
      "23               1       0        1         0       0                   0   \n",
      "24               2       0        1         0       0                   0   \n",
      "25               2       1        0         0       0                   0   \n",
      "26               2       0        1         0       0                   0   \n",
      "27               1       0        1         0       0                   0   \n",
      "28               1       0        1         0       0                   0   \n",
      "29               1       0        1         0       0                   0   \n",
      "...            ...     ...      ...       ...     ...                 ...   \n",
      "4969             1       0        1         0       0                   0   \n",
      "4970             2       0        1         0       0                   0   \n",
      "4971             2       0        1         0       0                   0   \n",
      "4972             1       0        1         0       0                   0   \n",
      "4973             2       0        1         0       0                   0   \n",
      "4974             1       0        1         0       0                   0   \n",
      "4975             2       0        1         0       0                   0   \n",
      "4976             1       1        0         0       0                   0   \n",
      "4977             1       0        1         0       0                   0   \n",
      "4978             2       0        1         0       0                   0   \n",
      "4979             2       0        1         0       0                   0   \n",
      "4980             1       0        1         0       0                   0   \n",
      "4981             2       0        1         0       0                   0   \n",
      "4982             2       1        0         0       0                   0   \n",
      "4983             2       0        1         0       0                   0   \n",
      "4984             2       0        1         0       0                   0   \n",
      "4985             2       0        1         0       0                   0   \n",
      "4986             2       0        1         0       0                   0   \n",
      "4987             1       0        1         0       0                   0   \n",
      "4988             2       0        1         0       0                   0   \n",
      "4989             2       0        1         0       0                   0   \n",
      "4990             1       0        1         0       0                   0   \n",
      "4991             1       0        1         0       0                   0   \n",
      "4992             2       0        1         0       0                   0   \n",
      "4993             2       0        1         0       0                   0   \n",
      "4994             2       0        1         0       0                   0   \n",
      "4995             2       0        1         0       0                   0   \n",
      "4996             1       0        1         0       0                   0   \n",
      "4997             1       0        1         0       0                   0   \n",
      "4998             2       0        1         0       0                   0   \n",
      "\n",
      "      Genus_Acanthophyllia  Genus_Accipiter  Genus_Acinonyx  Genus_Acipenser  \\\n",
      "0                        0                0               0                1   \n",
      "1                        0                0               0                0   \n",
      "2                        0                0               0                0   \n",
      "3                        0                0               0                0   \n",
      "4                        0                0               0                0   \n",
      "5                        0                0               0                0   \n",
      "6                        0                0               0                0   \n",
      "7                        0                0               0                0   \n",
      "8                        0                0               0                0   \n",
      "9                        0                0               0                0   \n",
      "10                       0                0               0                0   \n",
      "11                       0                0               0                0   \n",
      "12                       0                0               0                0   \n",
      "13                       0                0               0                0   \n",
      "14                       0                0               0                0   \n",
      "15                       0                0               0                0   \n",
      "16                       0                0               0                0   \n",
      "17                       0                0               0                0   \n",
      "18                       0                0               0                0   \n",
      "19                       0                0               0                0   \n",
      "20                       0                0               0                0   \n",
      "21                       0                0               0                0   \n",
      "22                       0                0               0                0   \n",
      "23                       0                0               0                0   \n",
      "24                       0                0               0                0   \n",
      "25                       0                0               0                0   \n",
      "26                       0                0               0                0   \n",
      "27                       0                0               0                0   \n",
      "28                       0                0               0                0   \n",
      "29                       0                0               0                0   \n",
      "...                    ...              ...             ...              ...   \n",
      "4969                     0                0               0                0   \n",
      "4970                     0                0               0                0   \n",
      "4971                     0                0               0                0   \n",
      "4972                     0                0               0                0   \n",
      "4973                     0                0               0                0   \n",
      "4974                     0                0               0                0   \n",
      "4975                     0                0               0                0   \n",
      "4976                     0                0               0                0   \n",
      "4977                     0                0               0                0   \n",
      "4978                     0                0               0                0   \n",
      "4979                     0                0               0                0   \n",
      "4980                     0                0               0                0   \n",
      "4981                     0                0               0                0   \n",
      "4982                     0                0               0                0   \n",
      "4983                     0                0               0                1   \n",
      "4984                     0                0               0                0   \n",
      "4985                     0                0               0                0   \n",
      "4986                     0                0               0                0   \n",
      "4987                     0                0               0                0   \n",
      "4988                     0                0               0                0   \n",
      "4989                     0                0               0                1   \n",
      "4990                     0                0               0                0   \n",
      "4991                     0                0               0                0   \n",
      "4992                     0                0               0                0   \n",
      "4993                     0                0               0                1   \n",
      "4994                     0                0               0                0   \n",
      "4995                     0                0               0                0   \n",
      "4996                     0                0               0                0   \n",
      "4997                     0                0               0                0   \n",
      "4998                     0                0               0                0   \n",
      "\n",
      "         ...       Exporter_VE  Exporter_VG  Exporter_VN  Exporter_WS  \\\n",
      "0        ...                 0            0            0            0   \n",
      "1        ...                 0            0            0            0   \n",
      "2        ...                 0            0            0            0   \n",
      "3        ...                 0            0            0            0   \n",
      "4        ...                 0            0            0            0   \n",
      "5        ...                 0            0            0            0   \n",
      "6        ...                 0            0            0            0   \n",
      "7        ...                 0            0            0            0   \n",
      "8        ...                 0            0            0            0   \n",
      "9        ...                 0            0            0            0   \n",
      "10       ...                 0            0            0            0   \n",
      "11       ...                 0            0            0            0   \n",
      "12       ...                 0            0            0            0   \n",
      "13       ...                 0            0            0            0   \n",
      "14       ...                 0            0            0            0   \n",
      "15       ...                 0            0            0            0   \n",
      "16       ...                 0            0            0            0   \n",
      "17       ...                 0            0            0            0   \n",
      "18       ...                 0            0            0            0   \n",
      "19       ...                 0            0            0            0   \n",
      "20       ...                 0            0            0            0   \n",
      "21       ...                 0            0            0            0   \n",
      "22       ...                 0            0            0            0   \n",
      "23       ...                 0            0            0            0   \n",
      "24       ...                 0            0            0            0   \n",
      "25       ...                 0            0            1            0   \n",
      "26       ...                 0            0            0            0   \n",
      "27       ...                 0            0            0            0   \n",
      "28       ...                 0            0            0            0   \n",
      "29       ...                 0            0            0            0   \n",
      "...      ...               ...          ...          ...          ...   \n",
      "4969     ...                 0            0            0            0   \n",
      "4970     ...                 0            0            0            0   \n",
      "4971     ...                 0            0            0            0   \n",
      "4972     ...                 0            0            0            0   \n",
      "4973     ...                 0            0            0            0   \n",
      "4974     ...                 0            0            0            0   \n",
      "4975     ...                 0            0            0            0   \n",
      "4976     ...                 0            0            0            0   \n",
      "4977     ...                 0            0            0            0   \n",
      "4978     ...                 0            0            0            0   \n",
      "4979     ...                 0            0            0            0   \n",
      "4980     ...                 0            0            0            0   \n",
      "4981     ...                 0            0            0            0   \n",
      "4982     ...                 0            0            0            0   \n",
      "4983     ...                 0            0            0            0   \n",
      "4984     ...                 0            0            0            0   \n",
      "4985     ...                 0            0            0            0   \n",
      "4986     ...                 0            0            0            0   \n",
      "4987     ...                 0            0            0            0   \n",
      "4988     ...                 0            0            0            0   \n",
      "4989     ...                 0            0            0            0   \n",
      "4990     ...                 0            0            0            0   \n",
      "4991     ...                 0            0            0            0   \n",
      "4992     ...                 0            0            0            0   \n",
      "4993     ...                 0            0            0            0   \n",
      "4994     ...                 0            0            0            0   \n",
      "4995     ...                 0            0            0            0   \n",
      "4996     ...                 0            0            0            0   \n",
      "4997     ...                 0            0            0            0   \n",
      "4998     ...                 0            0            0            0   \n",
      "\n",
      "      Exporter_XV  Exporter_XX  Exporter_ZA  Exporter_ZM  Exporter_ZW  \\\n",
      "0               0            0            0            0            0   \n",
      "1               0            0            0            0            0   \n",
      "2               0            0            0            0            0   \n",
      "3               0            0            0            0            0   \n",
      "4               0            0            0            0            0   \n",
      "5               0            0            0            0            0   \n",
      "6               0            0            0            0            0   \n",
      "7               0            0            0            0            1   \n",
      "8               0            0            0            0            0   \n",
      "9               0            0            0            0            0   \n",
      "10              0            0            0            0            0   \n",
      "11              0            0            0            0            0   \n",
      "12              0            0            0            0            0   \n",
      "13              0            0            0            0            0   \n",
      "14              0            0            0            0            0   \n",
      "15              0            0            0            0            0   \n",
      "16              0            0            0            0            0   \n",
      "17              0            0            0            0            0   \n",
      "18              0            0            0            0            0   \n",
      "19              0            0            0            0            0   \n",
      "20              0            0            0            0            0   \n",
      "21              0            0            0            0            0   \n",
      "22              0            0            0            0            1   \n",
      "23              0            0            0            0            0   \n",
      "24              0            0            0            0            0   \n",
      "25              0            0            0            0            0   \n",
      "26              0            0            0            0            0   \n",
      "27              0            0            0            0            0   \n",
      "28              0            0            0            0            0   \n",
      "29              0            0            0            0            0   \n",
      "...           ...          ...          ...          ...          ...   \n",
      "4969            0            0            0            0            0   \n",
      "4970            0            0            0            0            0   \n",
      "4971            0            0            0            0            0   \n",
      "4972            0            0            0            0            0   \n",
      "4973            0            0            0            0            0   \n",
      "4974            0            0            0            0            0   \n",
      "4975            0            0            0            0            0   \n",
      "4976            0            0            0            0            0   \n",
      "4977            0            0            0            0            0   \n",
      "4978            0            0            0            0            0   \n",
      "4979            0            0            0            0            0   \n",
      "4980            0            0            0            0            0   \n",
      "4981            0            0            0            0            0   \n",
      "4982            0            0            0            0            0   \n",
      "4983            0            0            0            0            0   \n",
      "4984            0            0            0            0            0   \n",
      "4985            0            0            0            0            0   \n",
      "4986            0            0            0            0            0   \n",
      "4987            0            0            0            0            0   \n",
      "4988            0            0            0            0            0   \n",
      "4989            0            0            0            0            0   \n",
      "4990            0            0            0            0            0   \n",
      "4991            0            0            0            0            0   \n",
      "4992            0            0            0            0            1   \n",
      "4993            0            0            0            0            0   \n",
      "4994            0            0            0            0            0   \n",
      "4995            0            0            0            0            0   \n",
      "4996            0            0            0            0            0   \n",
      "4997            0            0            0            0            0   \n",
      "4998            0            0            0            0            0   \n",
      "\n",
      "      Exporter_ZZ  \n",
      "0               0  \n",
      "1               0  \n",
      "2               0  \n",
      "3               0  \n",
      "4               0  \n",
      "5               0  \n",
      "6               0  \n",
      "7               0  \n",
      "8               0  \n",
      "9               0  \n",
      "10              0  \n",
      "11              0  \n",
      "12              0  \n",
      "13              0  \n",
      "14              0  \n",
      "15              0  \n",
      "16              0  \n",
      "17              0  \n",
      "18              0  \n",
      "19              0  \n",
      "20              0  \n",
      "21              0  \n",
      "22              0  \n",
      "23              0  \n",
      "24              0  \n",
      "25              0  \n",
      "26              0  \n",
      "27              0  \n",
      "28              0  \n",
      "29              0  \n",
      "...           ...  \n",
      "4969            0  \n",
      "4970            0  \n",
      "4971            0  \n",
      "4972            0  \n",
      "4973            0  \n",
      "4974            0  \n",
      "4975            0  \n",
      "4976            0  \n",
      "4977            0  \n",
      "4978            0  \n",
      "4979            0  \n",
      "4980            0  \n",
      "4981            0  \n",
      "4982            0  \n",
      "4983            0  \n",
      "4984            0  \n",
      "4985            0  \n",
      "4986            0  \n",
      "4987            0  \n",
      "4988            0  \n",
      "4989            0  \n",
      "4990            0  \n",
      "4991            0  \n",
      "4992            0  \n",
      "4993            0  \n",
      "4994            0  \n",
      "4995            0  \n",
      "4996            0  \n",
      "4997            0  \n",
      "4998            0  \n",
      "\n",
      "[4999 rows x 837 columns]\n"
     ]
    }
   ],
   "source": [
    "#Creating X which is the selected attributes as dummy data because jupyter get read nominal attributes\n",
    "\n",
    "feature_cols = ['App.','Genus', 'Term', 'Purpose', 'Live or Dead', 'Importer','Exporter']\n",
    "feat = animals[feature_cols]\n",
    "\n",
    "animals = pd.get_dummies(feat)\n",
    "X=animals\n",
    "print(X.shape)\n",
    "\n",
    "print X"
   ]
  },
  {
   "cell_type": "markdown",
   "metadata": {},
   "source": [
    "# Opitmal K"
   ]
  },
  {
   "cell_type": "code",
   "execution_count": 10,
   "metadata": {},
   "outputs": [
    {
     "name": "stdout",
     "output_type": "stream",
     "text": [
      "[0.7805513746991386, 0.7705408672448303, 0.8049500114959132, 0.800748751451781, 0.8123412866137423, 0.807551260263122, 0.8169521723543621, 0.814558117187012, 0.8185265735446852, 0.8163441529780135, 0.8181581555875497, 0.8115505050029608, 0.8149433161261662, 0.8149461138237198, 0.8143537258543985, 0.8133509218623829, 0.8141496986858682, 0.8149449161901673, 0.8133376953226529]\n"
     ]
    }
   ],
   "source": [
    "#these are the modules we will use for cross-validation and KNN, let's import them now \n",
    "from sklearn.model_selection import KFold, cross_val_score\n",
    "from sklearn.neighbors import KNeighborsClassifier\n",
    "from sklearn import metrics\n",
    "\n",
    "#Now, let's iterate through potential values of K to find an optimal value for our KNN model\n",
    "k_range = range(1,20)\n",
    "\n",
    "models = []\n",
    "\n",
    "for k in k_range: \n",
    "    knn = KNeighborsClassifier(n_neighbors=k)\n",
    "    k_scores = cross_val_score(knn, X, y, cv=10, scoring='accuracy')\n",
    "    models.append(k_scores.mean())\n",
    "print(models)"
   ]
  },
  {
   "cell_type": "code",
   "execution_count": 11,
   "metadata": {},
   "outputs": [
    {
     "data": {
      "image/png": "[encoded data removed]",
      "text/plain": [
       "<matplotlib.figure.Figure at 0xb7db390>"
      ]
     },
     "metadata": {},
     "output_type": "display_data"
    }
   ],
   "source": [
    "#let's plot the values to see more quickly what the best value is\n",
    "plt.plot(k_range, models)\n",
    "plt.xlabel('KNN Value')\n",
    "plt.ylabel('Accuracy Score')\n",
    "\n",
    "plt.show()"
   ]
  },
  {
   "cell_type": "markdown",
   "metadata": {},
   "source": [
    "Based on the graph above, we decided to use 10 as our Knn value due to that number having the highest accuracy score."
   ]
  },
  {
   "cell_type": "markdown",
   "metadata": {},
   "source": [
    "# Train_split_test, Knn"
   ]
  },
  {
   "cell_type": "code",
   "execution_count": 15,
   "metadata": {},
   "outputs": [
    {
     "name": "stdout",
     "output_type": "stream",
     "text": [
      "(4999, 837)\n",
      "(3749, 837)\n",
      "(1250, 837)\n"
     ]
    }
   ],
   "source": [
    "#Define test_train data\n",
    "\n",
    "from sklearn.model_selection import train_test_split\n",
    "X_train, X_test, y_train, y_test = train_test_split(X, y)\n",
    "\n",
    "# before splitting\n",
    "print X.shape\n",
    "\n",
    "# after splitting\n",
    "print X_train.shape\n",
    "print X_test.shape"
   ]
  },
  {
   "cell_type": "markdown",
   "metadata": {},
   "source": [
    "# KNN Model"
   ]
  },
  {
   "cell_type": "code",
   "execution_count": 16,
   "metadata": {},
   "outputs": [
    {
     "data": {
      "text/plain": [
       "KNeighborsClassifier(algorithm='auto', leaf_size=30, metric='minkowski',\n",
       "           metric_params=None, n_jobs=1, n_neighbors=10, p=2,\n",
       "           weights='uniform')"
      ]
     },
     "execution_count": 16,
     "metadata": {},
     "output_type": "execute_result"
    }
   ],
   "source": [
    "#Train the model on the training dataset, using k = 10\n",
    "\n",
    "from sklearn.neighbors import KNeighborsClassifier\n",
    "\n",
    "knn = KNeighborsClassifier(n_neighbors=10)\n",
    "knn.fit(X_train, y_train)"
   ]
  },
  {
   "cell_type": "code",
   "execution_count": 17,
   "metadata": {},
   "outputs": [
    {
     "name": "stdout",
     "output_type": "stream",
     "text": [
      "0.8136\n"
     ]
    }
   ],
   "source": [
    "#Evaluate the Model KNN\n",
    "from sklearn import metrics\n",
    "y_pred_class = knn.predict(X_test)\n",
    "print metrics.accuracy_score(y_test, y_pred_class)"
   ]
  },
  {
   "cell_type": "markdown",
   "metadata": {},
   "source": [
    "# Decision Tree Model"
   ]
  },
  {
   "cell_type": "code",
   "execution_count": 18,
   "metadata": {
    "collapsed": true
   },
   "outputs": [],
   "source": [
    "import pandas as pd  \n",
    "import numpy as np  \n",
    "import matplotlib.pyplot as plt  \n",
    "%matplotlib inline"
   ]
  },
  {
   "cell_type": "code",
   "execution_count": 19,
   "metadata": {
    "collapsed": true
   },
   "outputs": [],
   "source": [
    "from sklearn.model_selection import train_test_split  \n",
    "X_train, X_test, y_train, y_test = train_test_split(X, y, test_size=0.20)  "
   ]
  },
  {
   "cell_type": "code",
   "execution_count": 20,
   "metadata": {},
   "outputs": [
    {
     "data": {
      "text/plain": [
       "DecisionTreeClassifier(class_weight=None, criterion='gini', max_depth=None,\n",
       "            max_features=None, max_leaf_nodes=None,\n",
       "            min_impurity_decrease=0.0, min_impurity_split=None,\n",
       "            min_samples_leaf=1, min_samples_split=2,\n",
       "            min_weight_fraction_leaf=0.0, presort=False, random_state=None,\n",
       "            splitter='best')"
      ]
     },
     "execution_count": 20,
     "metadata": {},
     "output_type": "execute_result"
    }
   ],
   "source": [
    "from sklearn.tree import DecisionTreeClassifier  \n",
    "classifier = DecisionTreeClassifier()  \n",
    "classifier.fit(X_train, y_train) "
   ]
  },
  {
   "cell_type": "code",
   "execution_count": 21,
   "metadata": {},
   "outputs": [
    {
     "name": "stdout",
     "output_type": "stream",
     "text": [
      "[1 1 1 1 1 1 1 3 2 1 2 2 3 2 2 2 2 2 3 3 1 3 1 2 3 2 1 1 2 2 4 1 2 1 3 2 2\n",
      " 4 1 4 3 1 1 4 4 3 2 4 2 4 1 1 2 2 1 4 4 2 1 2 3 4 2 3 1 4 2 3 1 4 3 1 4 2\n",
      " 2 1 3 4 3 3 2 1 1 2 2 3 1 1 2 1 2 1 3 1 1 4 3 2 2 4 2 2 2 3 1 2 4 3 2 1 1\n",
      " 3 2 1 1 2 2 2 4 2 2 1 2 2 4 1 4 2 1 1 1 4 2 4 2 2 3 2 1 1 3 2 1 4 1 1 1 1\n",
      " 1 2 3 3 1 1 1 2 1 3 4 3 2 2 2 4 4 3 1 1 4 3 2 2 1 2 2 1 2 3 2 1 2 2 4 2 3\n",
      " 2 1 1 2 4 4 1 2 2 1 1 2 1 1 3 3 4 1 1 1 2 4 2 1 3 3 2 1 4 4 1 1 1 4 4 1 4\n",
      " 1 4 4 2 2 2 2 4 1 1 2 4 3 2 4 1 4 4 4 1 1 4 4 1 1 3 2 3 3 1 2 4 1 4 3 1 3\n",
      " 3 2 2 2 4 1 2 2 1 1 2 4 1 2 2 1 3 2 2 3 3 3 2 1 2 1 1 2 1 4 2 2 1 3 3 2 2\n",
      " 1 3 2 1 1 4 4 4 2 1 2 1 2 2 1 2 2 2 1 4 1 1 2 2 1 3 1 1 1 1 1 2 1 1 1 4 2\n",
      " 1 2 1 4 1 1 4 1 3 1 4 1 2 4 4 1 3 4 4 4 1 1 4 2 2 2 1 2 1 1 4 4 1 4 1 1 2\n",
      " 3 1 3 1 1 3 1 1 1 2 1 2 1 3 1 2 2 2 3 3 1 4 2 1 4 1 2 1 4 2 1 2 4 1 1 2 4\n",
      " 1 4 2 4 2 1 4 3 4 4 4 4 1 3 1 1 3 2 1 1 1 2 1 1 1 1 1 1 2 1 4 1 1 1 1 1 4\n",
      " 3 2 4 4 2 4 1 1 1 2 2 4 4 1 2 2 2 2 3 2 2 1 1 1 2 2 4 3 2 2 4 4 2 1 2 2 2\n",
      " 4 2 3 2 4 2 1 2 2 2 1 4 2 4 4 1 1 3 4 1 3 3 2 1 2 2 1 2 4 2 2 2 4 4 1 4 3\n",
      " 3 2 1 3 2 1 2 2 3 1 4 4 2 4 4 2 3 3 4 3 2 1 1 2 1 3 2 2 4 1 4 1 1 1 2 1 1\n",
      " 4 1 1 4 2 3 4 1 4 4 3 1 2 1 3 2 3 2 3 1 1 2 2 1 2 2 4 4 4 2 4 1 4 3 2 1 1\n",
      " 2 1 2 4 2 4 1 2 1 3 2 2 1 4 3 2 1 3 4 3 2 4 4 2 2 2 3 2 4 3 3 2 4 2 1 3 4\n",
      " 1 3 1 3 4 3 2 3 2 3 1 2 4 2 4 2 4 4 2 1 1 3 4 2 1 1 1 2 4 4 4 1 3 1 4 3 1\n",
      " 2 3 2 4 2 1 4 2 4 1 3 1 3 1 1 2 1 2 4 1 4 4 1 3 4 4 2 1 3 1 1 3 2 1 1 1 4\n",
      " 2 1 2 3 3 4 3 1 3 1 2 1 3 4 3 2 3 1 1 1 1 1 3 1 2 2 1 2 2 2 1 4 4 3 1 4 3\n",
      " 2 2 2 1 3 2 1 2 2 4 4 2 2 4 1 2 4 3 1 2 1 1 4 1 4 4 2 2 1 4 1 2 3 2 4 3 4\n",
      " 2 4 4 2 3 2 3 2 3 1 1 1 1 4 2 2 4 3 3 1 3 2 3 2 1 1 1 2 4 2 2 3 3 3 4 2 4\n",
      " 4 3 2 1 3 4 2 2 1 1 1 3 1 1 4 1 1 1 2 2 1 2 1 1 4 2 1 4 2 3 2 4 3 2 1 4 2\n",
      " 2 4 1 1 1 1 2 1 1 1 1 2 3 4 2 2 1 1 2 2 2 2 4 4 2 1 1 2 2 1 3 4 4 4 2 3 3\n",
      " 1 1 1 1 2 4 4 4 2 4 2 1 3 1 1 2 2 2 1 4 1 2 1 3 2 1 1 3 1 1 3 2 2 3 3 3 3\n",
      " 1 1 2 2 2 2 1 1 2 2 2 2 2 4 1 1 2 1 4 2 2 1 4 2 3 2 4 1 1 4 4 2 1 1 2 4 2\n",
      " 4 1 1 2 3 3 1 2 1 2 2 1 4 1 2 1 2 1 1 4 2 1 3 3 4 2 1 3 1 2 1 4 4 2 2 1 1\n",
      " 3]\n",
      "0.854\n"
     ]
    }
   ],
   "source": [
    "y_pred = classifier.predict(X_test)\n",
    "\n",
    "print y_pred\n",
    "\n",
    "print metrics.accuracy_score(y_test, y_pred)"
   ]
  },
  {
   "cell_type": "markdown",
   "metadata": {},
   "source": [
    "# Use confusion matrix to evaluate Decision Tree model"
   ]
  },
  {
   "cell_type": "code",
   "execution_count": 22,
   "metadata": {},
   "outputs": [
    {
     "name": "stdout",
     "output_type": "stream",
     "text": [
      "[[281  48   0   0]\n",
      " [ 54 264   0   0]\n",
      " [  0   0 134  25]\n",
      " [  0   0  19 175]]\n"
     ]
    }
   ],
   "source": [
    "# print confusion matrix\n",
    "print metrics.confusion_matrix(y_test, y_pred)"
   ]
  },
  {
   "cell_type": "code",
   "execution_count": 23,
   "metadata": {},
   "outputs": [
    {
     "name": "stdout",
     "output_type": "stream",
     "text": [
      "True Positives: 264\n",
      "True Negatives: 281\n",
      "False Positives: 48\n",
      "False Negatives: 54\n"
     ]
    }
   ],
   "source": [
    "# save confusion matrix and slice into four pieces\n",
    "dt_confusion = metrics.confusion_matrix(y_test, y_pred)\n",
    "dt_TP = dt_confusion[1][1]\n",
    "dt_TN = dt_confusion[0][0]\n",
    "dt_FP = dt_confusion[0][1]\n",
    "dt_FN = dt_confusion[1][0]\n",
    "\n",
    "print 'True Positives:', dt_TP\n",
    "print 'True Negatives:',dt_TN\n",
    "print 'False Positives:',dt_FP\n",
    "print 'False Negatives:',dt_FN"
   ]
  },
  {
   "cell_type": "code",
   "execution_count": 24,
   "metadata": {},
   "outputs": [
    {
     "name": "stdout",
     "output_type": "stream",
     "text": [
      "0.8301886792452831\n",
      "0.8541033434650456\n"
     ]
    }
   ],
   "source": [
    "# calculate the sensitivity (or recall)\n",
    "print dt_TP / float(dt_TP + dt_FN)\n",
    "\n",
    "#calculate the specificity\n",
    "print dt_TN / float(dt_TN + dt_FP)"
   ]
  },
  {
   "cell_type": "markdown",
   "metadata": {},
   "source": [
    "# Random Forest Model"
   ]
  },
  {
   "cell_type": "code",
   "execution_count": 25,
   "metadata": {},
   "outputs": [
    {
     "data": {
      "text/plain": [
       "RandomForestClassifier(bootstrap=True, class_weight=None, criterion='gini',\n",
       "            max_depth=None, max_features='auto', max_leaf_nodes=None,\n",
       "            min_impurity_decrease=0.0, min_impurity_split=None,\n",
       "            min_samples_leaf=1, min_samples_split=2,\n",
       "            min_weight_fraction_leaf=0.0, n_estimators=100, n_jobs=1,\n",
       "            oob_score=True, random_state=123456, verbose=0,\n",
       "            warm_start=False)"
      ]
     },
     "execution_count": 25,
     "metadata": {},
     "output_type": "execute_result"
    }
   ],
   "source": [
    "#Import Random Forest Classifier \n",
    "#Randon State is so the random selection is the same when the cards are shuffled the cards are shuffled the same\n",
    "\n",
    "from sklearn.ensemble import RandomForestClassifier\n",
    "rf = RandomForestClassifier(n_estimators=100, oob_score=True,random_state=123456)\n",
    "rf.fit(X_train, y_train)"
   ]
  },
  {
   "cell_type": "code",
   "execution_count": 26,
   "metadata": {},
   "outputs": [
    {
     "name": "stdout",
     "output_type": "stream",
     "text": [
      "[1 1 1 1 1 1 1 3 2 1 2 2 3 2 2 2 2 2 3 3 2 3 1 2 3 2 1 1 2 2 4 1 2 1 3 2 2\n",
      " 4 1 4 3 1 2 4 4 3 2 3 2 4 1 1 2 2 1 4 4 1 1 2 3 4 2 3 1 4 2 3 1 4 3 2 4 2\n",
      " 2 1 3 4 3 3 2 1 1 2 2 3 1 1 2 1 2 1 3 1 1 4 3 2 2 4 2 2 2 3 1 2 4 3 2 1 2\n",
      " 3 2 1 1 2 2 2 4 2 2 1 2 1 4 1 4 1 1 1 1 4 2 4 2 2 3 2 1 1 3 2 1 4 1 1 1 1\n",
      " 1 2 4 3 1 1 1 2 1 3 4 3 2 2 2 4 4 3 1 1 4 3 2 2 1 2 1 1 2 3 2 1 2 2 4 2 4\n",
      " 2 1 1 2 4 4 1 2 2 1 1 2 2 1 3 3 4 1 1 1 2 4 2 1 3 3 2 1 4 3 1 2 1 4 4 1 3\n",
      " 1 4 4 1 2 1 2 3 1 1 2 4 3 2 4 1 4 4 4 1 1 4 4 2 1 3 1 3 3 1 2 4 2 4 3 1 3\n",
      " 3 2 2 2 4 1 2 2 1 1 2 4 1 2 2 2 3 2 2 3 3 3 2 1 2 1 1 2 2 4 2 2 1 3 3 2 2\n",
      " 1 4 2 1 1 4 4 4 2 1 2 1 2 1 1 2 2 2 2 4 1 1 2 2 1 3 2 1 2 1 1 2 1 2 1 4 2\n",
      " 1 2 1 4 1 1 4 1 3 1 4 1 2 4 4 1 3 4 4 4 1 1 4 2 2 1 1 2 1 1 4 4 1 4 1 1 2\n",
      " 3 1 3 1 2 3 1 1 1 2 1 2 1 3 1 2 2 2 4 3 1 3 2 1 4 1 2 1 4 2 2 2 4 2 1 1 4\n",
      " 1 4 2 4 2 1 4 3 4 4 3 4 1 3 1 1 3 2 1 1 1 2 1 1 1 1 1 1 1 1 4 2 1 1 1 1 4\n",
      " 4 2 4 4 2 4 1 1 1 2 2 4 4 1 2 1 2 2 3 2 2 1 1 2 2 2 4 3 2 2 4 4 2 1 2 2 2\n",
      " 4 2 3 1 4 2 1 2 2 2 1 4 2 4 4 1 1 3 4 1 3 3 2 1 2 2 1 2 4 2 2 2 4 4 1 4 3\n",
      " 3 2 2 3 2 1 2 2 4 1 4 4 2 3 4 2 3 3 4 3 1 1 2 2 1 3 1 2 4 1 4 2 1 1 2 1 1\n",
      " 3 1 1 4 2 3 4 1 4 4 3 1 2 1 3 2 3 2 3 1 1 2 2 2 2 1 4 4 4 2 4 2 4 3 2 1 1\n",
      " 2 1 2 4 2 4 1 2 1 3 2 2 1 3 3 2 1 3 4 3 2 4 4 2 2 2 3 2 4 3 3 2 4 2 1 3 4\n",
      " 1 3 1 3 4 3 2 3 2 3 2 2 4 2 4 2 4 4 2 1 1 3 4 2 2 1 1 2 4 4 4 1 3 1 4 3 1\n",
      " 2 3 2 4 2 1 4 2 4 1 3 1 3 1 1 2 1 2 4 2 4 4 1 4 4 4 2 1 3 1 1 3 2 1 1 1 4\n",
      " 2 1 2 3 3 4 4 2 3 1 2 1 3 4 3 2 4 1 1 1 2 1 3 1 2 2 1 2 2 2 1 4 4 3 1 4 3\n",
      " 2 2 2 1 3 2 2 2 2 4 4 2 2 4 1 2 4 3 1 2 1 1 4 1 4 4 2 2 1 4 2 2 3 2 4 3 4\n",
      " 2 4 4 2 3 2 4 1 4 1 1 2 1 4 2 2 4 3 3 1 3 2 3 2 1 2 1 2 4 2 2 3 4 3 4 2 4\n",
      " 4 4 1 1 3 4 2 2 1 1 1 3 1 1 4 1 1 1 2 2 1 2 1 1 4 2 1 4 1 3 2 4 3 2 1 4 2\n",
      " 2 3 1 1 1 1 2 1 1 1 2 1 3 4 2 2 2 1 2 2 2 2 4 4 2 1 1 2 2 1 3 4 4 4 2 3 3\n",
      " 1 1 1 1 2 4 3 4 1 4 2 1 3 1 1 2 2 2 1 4 1 2 1 3 2 1 1 3 1 1 3 2 2 3 3 3 3\n",
      " 2 2 2 2 2 2 1 1 2 2 1 2 2 4 1 1 2 1 4 2 2 1 4 2 3 2 4 1 1 4 4 2 1 1 2 4 2\n",
      " 4 1 1 2 3 3 1 2 1 2 2 1 4 1 2 1 2 1 1 4 2 1 3 3 3 2 1 3 1 2 1 4 4 2 1 1 1\n",
      " 3]\n",
      "0.873\n"
     ]
    }
   ],
   "source": [
    "#Evaluate Random Forest\n",
    "\n",
    "from sklearn.metrics import accuracy_score\n",
    "predicted = rf.predict(X_test)\n",
    "accuracy = accuracy_score(y_test, predicted)\n",
    "\n",
    "print predicted\n",
    "print accuracy"
   ]
  },
  {
   "cell_type": "markdown",
   "metadata": {},
   "source": [
    "# Cross-validation model"
   ]
  },
  {
   "cell_type": "code",
   "execution_count": 29,
   "metadata": {
    "collapsed": true
   },
   "outputs": [],
   "source": [
    "#Create Cross Validation\n",
    "from sklearn.model_selection import KFold #import correct modules"
   ]
  },
  {
   "cell_type": "code",
   "execution_count": 30,
   "metadata": {},
   "outputs": [
    {
     "name": "stdout",
     "output_type": "stream",
     "text": [
      "[0.81424581 0.83496503 0.83893557 0.79971989 0.81372549 0.81626928\n",
      " 0.82328191]\n"
     ]
    }
   ],
   "source": [
    "from sklearn.model_selection import KFold, cross_val_score\n",
    "from sklearn.neighbors import KNeighborsClassifier\n",
    "from sklearn import metrics\n",
    "import matplotlib.pyplot as plt\n",
    "\n",
    "\n",
    "knn = KNeighborsClassifier(n_neighbors=7)\n",
    "scores = cross_val_score(knn, X, y, cv=7, scoring='accuracy') #cv is the cross-validation parameter\n",
    "print(scores)"
   ]
  },
  {
   "cell_type": "code",
   "execution_count": 31,
   "metadata": {},
   "outputs": [
    {
     "name": "stdout",
     "output_type": "stream",
     "text": [
      "0.8201632842211021\n"
     ]
    }
   ],
   "source": [
    "print scores.mean()"
   ]
  },
  {
   "cell_type": "markdown",
   "metadata": {},
   "source": [
    "# Evaluate each model using Confusion Matrix"
   ]
  },
  {
   "cell_type": "code",
   "execution_count": 32,
   "metadata": {},
   "outputs": [
    {
     "data": {
      "text/plain": [
       "KNeighborsClassifier(algorithm='auto', leaf_size=30, metric='minkowski',\n",
       "           metric_params=None, n_jobs=1, n_neighbors=10, p=2,\n",
       "           weights='uniform')"
      ]
     },
     "execution_count": 32,
     "metadata": {},
     "output_type": "execute_result"
    }
   ],
   "source": [
    "#Reload the Knn model\n",
    "\n",
    "from sklearn.neighbors import KNeighborsClassifier\n",
    "\n",
    "knn = KNeighborsClassifier(n_neighbors=10)\n",
    "knn.fit(X_train, y_train)"
   ]
  },
  {
   "cell_type": "code",
   "execution_count": 33,
   "metadata": {},
   "outputs": [
    {
     "name": "stdout",
     "output_type": "stream",
     "text": [
      "0.798\n"
     ]
    }
   ],
   "source": [
    "#Evaluate the Model KNN\n",
    "from sklearn import metrics\n",
    "y_pred_class = knn.predict(X_test)\n",
    "\n",
    "print metrics.accuracy_score(y_test, y_pred_class)"
   ]
  },
  {
   "cell_type": "code",
   "execution_count": 34,
   "metadata": {},
   "outputs": [
    {
     "name": "stdout",
     "output_type": "stream",
     "text": [
      "True Positives: 250\n",
      "True Negatives: 259\n",
      "False Positives: 68\n",
      "False Negatives: 68\n"
     ]
    }
   ],
   "source": [
    "# save confusion matrix and slice into four pieces KNN Model\n",
    "knn_confusion = metrics.confusion_matrix(y_test, y_pred_class)\n",
    "knn_TP = knn_confusion[1][1]\n",
    "knn_TN = knn_confusion[0][0]\n",
    "knn_FP = knn_confusion[0][1]\n",
    "knn_FN = knn_confusion[1][0]\n",
    "\n",
    "print 'True Positives:', knn_TP\n",
    "print 'True Negatives:', knn_TN\n",
    "print 'False Positives:', knn_FP\n",
    "print 'False Negatives:', knn_FN"
   ]
  },
  {
   "cell_type": "code",
   "execution_count": 35,
   "metadata": {},
   "outputs": [
    {
     "name": "stdout",
     "output_type": "stream",
     "text": [
      "0.7861635220125787\n",
      "0.7920489296636085\n"
     ]
    }
   ],
   "source": [
    "# calculate the sensitivity - the ability to correctly identify the true positives for KNN\n",
    "print knn_TP / float(knn_TP + knn_FN)\n",
    "\n",
    "# calculate the specificity - the ability to correctly identify the true negatives for KNN\n",
    "print knn_TN / float(knn_TN + knn_FP)"
   ]
  },
  {
   "cell_type": "code",
   "execution_count": 36,
   "metadata": {},
   "outputs": [
    {
     "name": "stdout",
     "output_type": "stream",
     "text": [
      "[[280  49   0   0]\n",
      " [ 41 277   0   0]\n",
      " [  0   0 137  22]\n",
      " [  0   0  15 179]]\n"
     ]
    }
   ],
   "source": [
    "# create and print confusion matrix for the Random Forest\n",
    "print metrics.confusion_matrix(y_test, predicted)"
   ]
  },
  {
   "cell_type": "code",
   "execution_count": 37,
   "metadata": {
    "scrolled": true
   },
   "outputs": [
    {
     "name": "stdout",
     "output_type": "stream",
     "text": [
      "True Positives: 277\n",
      "True Negatives: 280\n",
      "False Positives: 49\n",
      "False Negatives: 41\n"
     ]
    }
   ],
   "source": [
    "# save confusion matrix and slice into four pieces Random Forest\n",
    "rf_confusion = metrics.confusion_matrix(y_test, predicted)\n",
    "rf_TP = rf_confusion[1][1]\n",
    "rf_TN = rf_confusion[0][0]\n",
    "rf_FP = rf_confusion[0][1]\n",
    "rf_FN = rf_confusion[1][0]\n",
    "\n",
    "print 'True Positives:', rf_TP\n",
    "print 'True Negatives:', rf_TN\n",
    "print 'False Positives:', rf_FP\n",
    "print 'False Negatives:', rf_FN"
   ]
  },
  {
   "cell_type": "code",
   "execution_count": 38,
   "metadata": {},
   "outputs": [
    {
     "name": "stdout",
     "output_type": "stream",
     "text": [
      "0.7861635220125787\n",
      "0.7872340425531915\n"
     ]
    }
   ],
   "source": [
    "# calculate the sensitivity - the ability to correctly identify the true positives for Random Forest\n",
    "print knn_TP / float(rf_TP + rf_FN)\n",
    "\n",
    "# calculate the specificity - the ability to correctly identify the true negatives for Random Froest\n",
    "print knn_TN / float(rf_TN + rf_FP)"
   ]
  },
  {
   "cell_type": "markdown",
   "metadata": {},
   "source": [
    "# Logistic Regression Model"
   ]
  },
  {
   "cell_type": "code",
   "execution_count": 39,
   "metadata": {},
   "outputs": [
    {
     "data": {
      "text/plain": [
       "[('App.', 10.85307218777017),\n",
       " ('Genus', -5.079110943194928),\n",
       " ('Term', -4.496088209858538),\n",
       " ('Purpose', 9.516493241106751),\n",
       " ('Live or Dead', -9.176592380924463),\n",
       " ('Importer', -0.4631376679832184),\n",
       " ('Exporter', -0.01765660092847137)]"
      ]
     },
     "execution_count": 39,
     "metadata": {},
     "output_type": "execute_result"
    }
   ],
   "source": [
    "#Fit data on Logistic regression model\n",
    "#calculate the degree of correlation between the variables to predict the label \n",
    "from sklearn.linear_model import LogisticRegression\n",
    "logreg = LogisticRegression(C=1e9)\n",
    "logreg.fit(X_train, y_train)\n",
    "zip(feature_cols, logreg.coef_[0])"
   ]
  },
  {
   "cell_type": "code",
   "execution_count": 40,
   "metadata": {
    "collapsed": true
   },
   "outputs": [],
   "source": [
    "#predicted probabilities\n",
    "l_pred_class = logreg.predict(X_test)"
   ]
  },
  {
   "cell_type": "code",
   "execution_count": 41,
   "metadata": {},
   "outputs": [
    {
     "name": "stdout",
     "output_type": "stream",
     "text": [
      "0.837\n"
     ]
    }
   ],
   "source": [
    "# calculate classification accuracy\n",
    "from sklearn import metrics\n",
    "print metrics.accuracy_score(y_test, l_pred_class)"
   ]
  },
  {
   "cell_type": "code",
   "execution_count": 42,
   "metadata": {},
   "outputs": [
    {
     "name": "stdout",
     "output_type": "stream",
     "text": [
      "[[263  66   0   0]\n",
      " [ 41 277   0   0]\n",
      " [  0   0 134  25]\n",
      " [  0   0  31 163]]\n"
     ]
    }
   ],
   "source": [
    "# print confusion matrix for Logistic Regression\n",
    "print metrics.confusion_matrix(y_test, l_pred_class)"
   ]
  },
  {
   "cell_type": "code",
   "execution_count": 43,
   "metadata": {},
   "outputs": [
    {
     "name": "stdout",
     "output_type": "stream",
     "text": [
      "True Positives: 250\n",
      "True Negatives: 259\n",
      "False Positives: 68\n",
      "False Negatives: 68\n"
     ]
    }
   ],
   "source": [
    "# save confusion matrix and slice into four pieces\n",
    "log_confusion = metrics.confusion_matrix(y_test, y_pred_class)\n",
    "log_TP = log_confusion[1][1]\n",
    "log_TN = log_confusion[0][0]\n",
    "log_FP = log_confusion[0][1]\n",
    "log_FN = log_confusion[1][0]   \n",
    "\n",
    "print 'True Positives:', log_TP\n",
    "print 'True Negatives:', log_TN\n",
    "print 'False Positives:', log_FP\n",
    "print 'False Negatives:', log_FN"
   ]
  },
  {
   "cell_type": "code",
   "execution_count": 44,
   "metadata": {},
   "outputs": [
    {
     "name": "stdout",
     "output_type": "stream",
     "text": [
      "0.7861635220125787\n",
      "0.7920489296636085\n"
     ]
    }
   ],
   "source": [
    "# calculate the sensitivity (or recall)\n",
    "print log_TP / float(log_TP + log_FN)\n",
    "\n",
    "#calculate the specificity\n",
    "print log_TN / float(log_TN + log_FP)"
   ]
  },
  {
   "cell_type": "code",
   "execution_count": 45,
   "metadata": {
    "collapsed": true
   },
   "outputs": [],
   "source": [
    "# store the predicted probabilities for the Log. Reg\n",
    "l_pred_prob = logreg.predict_proba(X_test)[:, 1]"
   ]
  },
  {
   "cell_type": "markdown",
   "metadata": {},
   "source": [
    "# Plot Confusion Matrix for Randon Forest\n",
    "\n",
    "    Arguments\n",
    "    ---------\n",
    "    cm:           confusion matrix from sklearn.metrics.confusion_matrix\n",
    "\n",
    "    target_names: given classification classes such as [0, 1, 2]\n",
    "                  the class names, for example: ['high', 'medium', 'low']\n",
    "\n",
    "    title:        the text to display at the top of the matrix\n",
    "\n",
    "    cmap:         the gradient of the values displayed from matplotlib.pyplot.cm\n",
    "                  see http://matplotlib.org/examples/color/colormaps_reference.html\n",
    "                  plt.get_cmap('jet') or plt.cm.Blues\n",
    "\n",
    "    normalize:    If False, plot the raw numbers\n",
    "                  If True, plot the proportions\n",
    "\n",
    "    Usage\n",
    "    -----\n",
    "    plot_confusion_matrix(cm           = cm,                  # confusion matrix created by\n",
    "                                                              # sklearn.metrics.confusion_matrix\n",
    "                          normalize    = True,                # show proportions\n",
    "                          class_names = y_labels_vals,        # list of names of the classes\n",
    "                          title        = best_estimator_name) # title of graph\n"
   ]
  },
  {
   "cell_type": "code",
   "execution_count": 46,
   "metadata": {},
   "outputs": [
    {
     "name": "stdout",
     "output_type": "stream",
     "text": [
      "[[280  49   0   0]\n",
      " [ 41 277   0   0]\n",
      " [  0   0 137  22]\n",
      " [  0   0  15 179]]\n"
     ]
    }
   ],
   "source": [
    "#print confusion matrix for the Random Forest\n",
    "rf_cm_metric = metrics.confusion_matrix(y_test, predicted)\n",
    "print rf_cm_metric"
   ]
  },
  {
   "cell_type": "code",
   "execution_count": 47,
   "metadata": {},
   "outputs": [
    {
     "name": "stdout",
     "output_type": "stream",
     "text": [
      "[[280  49   0   0]\n",
      " [ 41 277   0   0]\n",
      " [  0   0 137  22]\n",
      " [  0   0  15 179]]\n"
     ]
    },
    {
     "data": {
      "image/png": "[encoded data removed]",
      "text/plain": [
       "<matplotlib.figure.Figure at 0x18446cc0>"
      ]
     },
     "metadata": {},
     "output_type": "display_data"
    }
   ],
   "source": [
    "import itertools\n",
    "import numpy as np\n",
    "import matplotlib.pyplot as plt\n",
    "\n",
    "from sklearn import svm, datasets\n",
    "from sklearn.model_selection import train_test_split\n",
    "from sklearn.metrics import confusion_matrix\n",
    "\n",
    "#import dataset\n",
    "animals = pd.read_csv('Animal(7).csv')\n",
    "\n",
    "\n",
    "#defining the types of classes\n",
    "class_names = ['1', '2', '3', '4']\n",
    "\n",
    "def plot_confusion_matrix(cm, classes,\n",
    "                          normalize=False,\n",
    "                          title='Confusion matrix',\n",
    "                          cmap=plt.cm.Blues):\n",
    "    \"\"\"\n",
    "    This function prints and plots the confusion matrix.\n",
    "    Normalization can be applied by setting `normalize=True`.\n",
    "    \"\"\"\n",
    "    if normalize:\n",
    "        cm = cm.astype('float') / cm.sum(axis=1)[:, np.newaxis]\n",
    "        print(\"Normalized confusion matrix\")\n",
    "    \n",
    "\n",
    "    print(cm)\n",
    "\n",
    "    plt.imshow(cm, interpolation='nearest', cmap=cmap)\n",
    "    plt.title(title)\n",
    "    plt.colorbar()\n",
    "    tick_marks = np.arange(len(classes))\n",
    "    plt.xticks(tick_marks, classes, rotation=45)\n",
    "    plt.yticks(tick_marks, classes)\n",
    "\n",
    "    fmt = '.2f' if normalize else 'd'\n",
    "    thresh = cm.max() / 2.\n",
    "    for i, j in itertools.product(range(cm.shape[0]), range(cm.shape[1])):\n",
    "        plt.text(j, i, format(cm[i, j], fmt),\n",
    "                 horizontalalignment=\"center\",\n",
    "                 color=\"white\" if cm[i, j] > thresh else \"black\")\n",
    "\n",
    "    plt.tight_layout()\n",
    "    plt.ylabel('True label')\n",
    "    plt.xlabel('Predicted label')\n",
    "\n",
    "# Compute confusion matrix using the Random Forest confusion matrix from before\n",
    "cnf_matrix = rf_cm_metric\n",
    "np.set_printoptions(precision=2)\n",
    "\n",
    "# Plot non-normalized raw data confusion matrix\n",
    "plt.figure()\n",
    "plot_confusion_matrix(cnf_matrix, classes=class_names,\n",
    "                      title='Confusion matrix, without normalization')\n",
    "\n",
    "\n",
    "plt.show()"
   ]
  },
  {
   "cell_type": "markdown",
   "metadata": {
    "collapsed": true
   },
   "source": [
    "Looking at the different models we tested, the specificity or sensitivity for each ranged from .75 to .79. Therefore, to choose the mest model, we made our decision based on the accuracy rating. \n",
    "\n",
    "We chose to display the Confusion Matrix for the Random Forest because the accuracy rate was .873, which was the highest of the models we tested. Looking at the results, there is a even split in the model ability to differentiate the true positive and negavtives in each category. 1 and 2 is one sub confusion matrix that is looking at all the dead animal transactions. While 3 and 4 is another sub confusion matrix looking at live animals transactions. \n",
    "\n",
    "This is due to the sub categories within the data and label. To create our label, we had to first identify export transactions from import transaction. Once we made this differentiation, we then broke the transaction down further to if the animal in the sell/purchase was dead or alive.\n"
   ]
  },
  {
   "cell_type": "markdown",
   "metadata": {
    "collapsed": true
   },
   "source": [
    "<b> Application of the model <b/>\n"
   ]
  },
  {
   "cell_type": "markdown",
   "metadata": {},
   "source": [
    "The results of this project can be helpful for the CITES organization to gain insights about the international wildlife trade. CITES can potentially use the algorithms to monitor the online trading activities on the Web-based marketplaces. If CITES combine the prediction if the animals traded dead or alive with the information if the animals are endangered species, CITES can determine if the traders will more likely to violate the law and trade an endangered species in a dead condition. \n",
    "\n"
   ]
  },
  {
   "cell_type": "code",
   "execution_count": null,
   "metadata": {},
   "outputs": [],
   "source": []
  }
 ],
 "metadata": {
  "kernelspec": {
   "display_name": "Python 2",
   "language": "python",
   "name": "python2"
  },
  "language_info": {
   "codemirror_mode": {
    "name": "ipython",
    "version": 2
   },
   "file_extension": ".py",
   "mimetype": "text/x-python",
   "name": "python",
   "nbconvert_exporter": "python",
   "pygments_lexer": "ipython2",
   "version": "2.7.14"
  }
 },
 "nbformat": 4,
 "nbformat_minor": 2
}
